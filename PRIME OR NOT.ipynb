{
 "cells": [
  {
   "cell_type": "code",
   "execution_count": 3,
   "id": "37209736",
   "metadata": {},
   "outputs": [
    {
     "name": "stdout",
     "output_type": "stream",
     "text": [
      "18\n",
      "Not a prime\n"
     ]
    }
   ],
   "source": [
    "def op(opp):\n",
    "    i=0\n",
    "    for j in range(1,opp+1):\n",
    "        if opp%j==0:\n",
    "            i+=1\n",
    "    if i==2:\n",
    "        print(\"It is prime\")\n",
    "    else:\n",
    "        print(\"Not a prime\")\n",
    "op(int(input()))"
   ]
  },
  {
   "cell_type": "code",
   "execution_count": null,
   "id": "42ca0d55",
   "metadata": {},
   "outputs": [],
   "source": []
  },
  {
   "cell_type": "code",
   "execution_count": null,
   "id": "41ef84e6",
   "metadata": {},
   "outputs": [],
   "source": []
  }
 ],
 "metadata": {
  "kernelspec": {
   "display_name": "Python 3 (ipykernel)",
   "language": "python",
   "name": "python3"
  },
  "language_info": {
   "codemirror_mode": {
    "name": "ipython",
    "version": 3
   },
   "file_extension": ".py",
   "mimetype": "text/x-python",
   "name": "python",
   "nbconvert_exporter": "python",
   "pygments_lexer": "ipython3",
   "version": "3.10.7"
  }
 },
 "nbformat": 4,
 "nbformat_minor": 5
}
